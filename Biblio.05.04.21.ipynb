{
  "nbformat": 4,
  "nbformat_minor": 0,
  "metadata": {
    "colab": {
      "name": "Biblio seminar7.ipynb",
      "provenance": [],
      "authorship_tag": "ABX9TyPc0yZOGpYyYkzByZwt4eZc",
      "include_colab_link": true
    },
    "kernelspec": {
      "name": "python3",
      "display_name": "Python 3"
    },
    "language_info": {
      "name": "python"
    }
  },
  "cells": [
    {
      "cell_type": "markdown",
      "metadata": {
        "id": "view-in-github",
        "colab_type": "text"
      },
      "source": [
        "<a href=\"https://colab.research.google.com/github/Daria190601/Seminar/blob/main/Biblio.seminar7%2012.04.21.ipynb\" target=\"_parent\"><img src=\"https://colab.research.google.com/assets/colab-badge.svg\" alt=\"Open In Colab\"/></a>"
      ]
    },
    {
      "cell_type": "code",
      "metadata": {
        "id": "dYI4nzyAVeMC"
      },
      "source": [
        "import numpy as np"
      ],
      "execution_count": 1,
      "outputs": []
    },
    {
      "cell_type": "code",
      "metadata": {
        "id": "uAYuBPgGVjVk"
      },
      "source": [
        "a = [1,2,3]"
      ],
      "execution_count": 2,
      "outputs": []
    },
    {
      "cell_type": "code",
      "metadata": {
        "colab": {
          "base_uri": "https://localhost:8080/"
        },
        "id": "gJlcBFQCV8Sj",
        "outputId": "e2a744ef-4174-4030-c806-b1a8d6d55cec"
      },
      "source": [
        "a"
      ],
      "execution_count": 3,
      "outputs": [
        {
          "output_type": "execute_result",
          "data": {
            "text/plain": [
              "[1, 2, 3]"
            ]
          },
          "metadata": {
            "tags": []
          },
          "execution_count": 3
        }
      ]
    },
    {
      "cell_type": "code",
      "metadata": {
        "id": "abk7W53xV9WE"
      },
      "source": [
        "b = np.array(a)"
      ],
      "execution_count": 8,
      "outputs": []
    },
    {
      "cell_type": "code",
      "metadata": {
        "colab": {
          "base_uri": "https://localhost:8080/"
        },
        "id": "hmb4olD7WbjU",
        "outputId": "a2f3595e-ec5c-4ade-a34f-e8c187a19894"
      },
      "source": [
        "type(b)"
      ],
      "execution_count": 9,
      "outputs": [
        {
          "output_type": "execute_result",
          "data": {
            "text/plain": [
              "numpy.ndarray"
            ]
          },
          "metadata": {
            "tags": []
          },
          "execution_count": 9
        }
      ]
    },
    {
      "cell_type": "code",
      "metadata": {
        "colab": {
          "base_uri": "https://localhost:8080/"
        },
        "id": "BPqauu9wWpvG",
        "outputId": "0da7d046-df7a-4219-990c-a4bff481de70"
      },
      "source": [
        "a"
      ],
      "execution_count": 10,
      "outputs": [
        {
          "output_type": "execute_result",
          "data": {
            "text/plain": [
              "[1, 2, 3]"
            ]
          },
          "metadata": {
            "tags": []
          },
          "execution_count": 10
        }
      ]
    },
    {
      "cell_type": "code",
      "metadata": {
        "colab": {
          "base_uri": "https://localhost:8080/"
        },
        "id": "-O6Lc1FTXGXs",
        "outputId": "a60b8336-2f8c-4708-f171-89dfcf25dc39"
      },
      "source": [
        "b"
      ],
      "execution_count": 11,
      "outputs": [
        {
          "output_type": "execute_result",
          "data": {
            "text/plain": [
              "array([1, 2, 3])"
            ]
          },
          "metadata": {
            "tags": []
          },
          "execution_count": 11
        }
      ]
    },
    {
      "cell_type": "code",
      "metadata": {
        "colab": {
          "base_uri": "https://localhost:8080/"
        },
        "id": "faEpFmfjXHLl",
        "outputId": "5978f1b7-8b94-4edb-b9a4-9f3f858fb4db"
      },
      "source": [
        "a+a"
      ],
      "execution_count": 12,
      "outputs": [
        {
          "output_type": "execute_result",
          "data": {
            "text/plain": [
              "[1, 2, 3, 1, 2, 3]"
            ]
          },
          "metadata": {
            "tags": []
          },
          "execution_count": 12
        }
      ]
    },
    {
      "cell_type": "code",
      "metadata": {
        "colab": {
          "base_uri": "https://localhost:8080/"
        },
        "id": "VYdcUszCXJE0",
        "outputId": "e630127b-81d5-4052-e23d-53b8dfb22467"
      },
      "source": [
        "b+b"
      ],
      "execution_count": 13,
      "outputs": [
        {
          "output_type": "execute_result",
          "data": {
            "text/plain": [
              "array([2, 4, 6])"
            ]
          },
          "metadata": {
            "tags": []
          },
          "execution_count": 13
        }
      ]
    },
    {
      "cell_type": "code",
      "metadata": {
        "colab": {
          "base_uri": "https://localhost:8080/"
        },
        "id": "9KVovvGsXLUM",
        "outputId": "60b0292c-c4d7-4ec3-ce68-4a0b59495040"
      },
      "source": [
        "b*b"
      ],
      "execution_count": 14,
      "outputs": [
        {
          "output_type": "execute_result",
          "data": {
            "text/plain": [
              "array([1, 4, 9])"
            ]
          },
          "metadata": {
            "tags": []
          },
          "execution_count": 14
        }
      ]
    },
    {
      "cell_type": "code",
      "metadata": {
        "colab": {
          "base_uri": "https://localhost:8080/"
        },
        "id": "hHLZpLEyXkJa",
        "outputId": "28b32e11-3839-4256-ef5a-c4cd89fd9134"
      },
      "source": [
        "np.arange(10)"
      ],
      "execution_count": 16,
      "outputs": [
        {
          "output_type": "execute_result",
          "data": {
            "text/plain": [
              "array([0, 1, 2, 3, 4, 5, 6, 7, 8, 9])"
            ]
          },
          "metadata": {
            "tags": []
          },
          "execution_count": 16
        }
      ]
    },
    {
      "cell_type": "code",
      "metadata": {
        "colab": {
          "base_uri": "https://localhost:8080/"
        },
        "id": "1-vvIuZUYVmM",
        "outputId": "2769a24d-4915-4c48-e6ba-bd499728eb26"
      },
      "source": [
        "np.arange(10,2,-1)"
      ],
      "execution_count": 17,
      "outputs": [
        {
          "output_type": "execute_result",
          "data": {
            "text/plain": [
              "array([10,  9,  8,  7,  6,  5,  4,  3])"
            ]
          },
          "metadata": {
            "tags": []
          },
          "execution_count": 17
        }
      ]
    },
    {
      "cell_type": "code",
      "metadata": {
        "colab": {
          "base_uri": "https://localhost:8080/"
        },
        "id": "pXTMN8_DaYY2",
        "outputId": "8f48a8f3-fae0-4936-f7d5-bf6c55545745"
      },
      "source": [
        "np.arange(0,10,3)"
      ],
      "execution_count": 21,
      "outputs": [
        {
          "output_type": "execute_result",
          "data": {
            "text/plain": [
              "array([0, 3, 6, 9])"
            ]
          },
          "metadata": {
            "tags": []
          },
          "execution_count": 21
        }
      ]
    },
    {
      "cell_type": "code",
      "metadata": {
        "id": "zfhimPCPYeP8"
      },
      "source": [
        "c=np.arange(0,10,3)"
      ],
      "execution_count": 19,
      "outputs": []
    },
    {
      "cell_type": "code",
      "metadata": {
        "id": "VNxHuMLLaLDt"
      },
      "source": [
        "cc=c*c-c-5"
      ],
      "execution_count": 24,
      "outputs": []
    },
    {
      "cell_type": "code",
      "metadata": {
        "colab": {
          "base_uri": "https://localhost:8080/"
        },
        "id": "jVuomkkJaSyx",
        "outputId": "a0c0c9e9-b738-4676-8322-3f2fec19a66c"
      },
      "source": [
        "c[2]"
      ],
      "execution_count": 22,
      "outputs": [
        {
          "output_type": "execute_result",
          "data": {
            "text/plain": [
              "6"
            ]
          },
          "metadata": {
            "tags": []
          },
          "execution_count": 22
        }
      ]
    },
    {
      "cell_type": "code",
      "metadata": {
        "colab": {
          "base_uri": "https://localhost:8080/"
        },
        "id": "pIceM2UHagtI",
        "outputId": "c8f9c6b7-2f96-42b4-ca14-18ec9dd5722e"
      },
      "source": [
        "c"
      ],
      "execution_count": 23,
      "outputs": [
        {
          "output_type": "execute_result",
          "data": {
            "text/plain": [
              "array([0, 3, 6, 9])"
            ]
          },
          "metadata": {
            "tags": []
          },
          "execution_count": 23
        }
      ]
    },
    {
      "cell_type": "code",
      "metadata": {
        "colab": {
          "base_uri": "https://localhost:8080/"
        },
        "id": "Xch1f3AAalXz",
        "outputId": "c7768fe0-8843-44c7-c406-5501c69d1e69"
      },
      "source": [
        "cc[2]"
      ],
      "execution_count": 25,
      "outputs": [
        {
          "output_type": "execute_result",
          "data": {
            "text/plain": [
              "25"
            ]
          },
          "metadata": {
            "tags": []
          },
          "execution_count": 25
        }
      ]
    },
    {
      "cell_type": "code",
      "metadata": {
        "colab": {
          "base_uri": "https://localhost:8080/"
        },
        "id": "ehB3taFVbMQR",
        "outputId": "d0bfdba5-5f34-456b-82eb-2654d036812a"
      },
      "source": [
        "cc"
      ],
      "execution_count": 26,
      "outputs": [
        {
          "output_type": "execute_result",
          "data": {
            "text/plain": [
              "array([-5,  1, 25, 67])"
            ]
          },
          "metadata": {
            "tags": []
          },
          "execution_count": 26
        }
      ]
    },
    {
      "cell_type": "code",
      "metadata": {
        "id": "ttPs1LUDbN7Y"
      },
      "source": [
        "y=np.array([[1,2],[3,4],[5,6]])"
      ],
      "execution_count": 31,
      "outputs": []
    },
    {
      "cell_type": "code",
      "metadata": {
        "colab": {
          "base_uri": "https://localhost:8080/"
        },
        "id": "vcb-VflDeEoP",
        "outputId": "356d3199-b0d2-4744-fece-eb92103b6f44"
      },
      "source": [
        "np.array([[1,2],[3,4],[5,6]])"
      ],
      "execution_count": 37,
      "outputs": [
        {
          "output_type": "execute_result",
          "data": {
            "text/plain": [
              "array([[1, 2],\n",
              "       [3, 4],\n",
              "       [5, 6]])"
            ]
          },
          "metadata": {
            "tags": []
          },
          "execution_count": 37
        }
      ]
    },
    {
      "cell_type": "code",
      "metadata": {
        "id": "TZEEo14Pbn5j"
      },
      "source": [
        "x=np.arange(9)"
      ],
      "execution_count": 28,
      "outputs": []
    },
    {
      "cell_type": "code",
      "metadata": {
        "colab": {
          "base_uri": "https://localhost:8080/"
        },
        "id": "SY2qh6btcooz",
        "outputId": "3b5c64d7-60c9-44d8-c360-2774035e198d"
      },
      "source": [
        "x"
      ],
      "execution_count": 29,
      "outputs": [
        {
          "output_type": "execute_result",
          "data": {
            "text/plain": [
              "array([0, 1, 2, 3, 4, 5, 6, 7, 8])"
            ]
          },
          "metadata": {
            "tags": []
          },
          "execution_count": 29
        }
      ]
    },
    {
      "cell_type": "code",
      "metadata": {
        "colab": {
          "base_uri": "https://localhost:8080/"
        },
        "id": "SokWs1xecpv7",
        "outputId": "a7119db1-9d77-4162-edf8-7bd32ee044de"
      },
      "source": [
        "x.ndim"
      ],
      "execution_count": 30,
      "outputs": [
        {
          "output_type": "execute_result",
          "data": {
            "text/plain": [
              "1"
            ]
          },
          "metadata": {
            "tags": []
          },
          "execution_count": 30
        }
      ]
    },
    {
      "cell_type": "code",
      "metadata": {
        "colab": {
          "base_uri": "https://localhost:8080/"
        },
        "id": "O2UUHphPc5Pq",
        "outputId": "5731e959-2e85-4dc1-b515-b2fc67c6ca86"
      },
      "source": [
        "y.ndim"
      ],
      "execution_count": 32,
      "outputs": [
        {
          "output_type": "execute_result",
          "data": {
            "text/plain": [
              "2"
            ]
          },
          "metadata": {
            "tags": []
          },
          "execution_count": 32
        }
      ]
    },
    {
      "cell_type": "code",
      "metadata": {
        "colab": {
          "base_uri": "https://localhost:8080/"
        },
        "id": "LAjojSd8dVCa",
        "outputId": "f5e9a114-4b34-4723-d873-0d472fc141f3"
      },
      "source": [
        "y.size"
      ],
      "execution_count": 33,
      "outputs": [
        {
          "output_type": "execute_result",
          "data": {
            "text/plain": [
              "6"
            ]
          },
          "metadata": {
            "tags": []
          },
          "execution_count": 33
        }
      ]
    },
    {
      "cell_type": "code",
      "metadata": {
        "colab": {
          "base_uri": "https://localhost:8080/"
        },
        "id": "_oMA9JuwdZPr",
        "outputId": "34a9992e-3350-495b-9e3d-35877d4a281c"
      },
      "source": [
        "x.size"
      ],
      "execution_count": 34,
      "outputs": [
        {
          "output_type": "execute_result",
          "data": {
            "text/plain": [
              "9"
            ]
          },
          "metadata": {
            "tags": []
          },
          "execution_count": 34
        }
      ]
    },
    {
      "cell_type": "code",
      "metadata": {
        "id": "_ht6dsQBduFK"
      },
      "source": [
        "z=x.reshape(3,3)"
      ],
      "execution_count": 35,
      "outputs": []
    },
    {
      "cell_type": "code",
      "metadata": {
        "colab": {
          "base_uri": "https://localhost:8080/"
        },
        "id": "rvK0EeZLd-_X",
        "outputId": "c6cf360d-9986-4216-ad5c-dc231351b50d"
      },
      "source": [
        "z"
      ],
      "execution_count": 36,
      "outputs": [
        {
          "output_type": "execute_result",
          "data": {
            "text/plain": [
              "array([[0, 1, 2],\n",
              "       [3, 4, 5],\n",
              "       [6, 7, 8]])"
            ]
          },
          "metadata": {
            "tags": []
          },
          "execution_count": 36
        }
      ]
    },
    {
      "cell_type": "code",
      "metadata": {
        "id": "JNXcTSlAeARJ"
      },
      "source": [
        "import random as rd"
      ],
      "execution_count": 38,
      "outputs": []
    },
    {
      "cell_type": "code",
      "metadata": {
        "id": "S7fQfcT4ff1a"
      },
      "source": [
        "aa = list(range(100))"
      ],
      "execution_count": 51,
      "outputs": []
    },
    {
      "cell_type": "code",
      "metadata": {
        "colab": {
          "base_uri": "https://localhost:8080/"
        },
        "id": "YQwwZEhsgP7Z",
        "outputId": "e3a1997f-2e13-40b7-9bde-a1cfd92478bb"
      },
      "source": [
        "aa"
      ],
      "execution_count": 52,
      "outputs": [
        {
          "output_type": "execute_result",
          "data": {
            "text/plain": [
              "[0,\n",
              " 1,\n",
              " 2,\n",
              " 3,\n",
              " 4,\n",
              " 5,\n",
              " 6,\n",
              " 7,\n",
              " 8,\n",
              " 9,\n",
              " 10,\n",
              " 11,\n",
              " 12,\n",
              " 13,\n",
              " 14,\n",
              " 15,\n",
              " 16,\n",
              " 17,\n",
              " 18,\n",
              " 19,\n",
              " 20,\n",
              " 21,\n",
              " 22,\n",
              " 23,\n",
              " 24,\n",
              " 25,\n",
              " 26,\n",
              " 27,\n",
              " 28,\n",
              " 29,\n",
              " 30,\n",
              " 31,\n",
              " 32,\n",
              " 33,\n",
              " 34,\n",
              " 35,\n",
              " 36,\n",
              " 37,\n",
              " 38,\n",
              " 39,\n",
              " 40,\n",
              " 41,\n",
              " 42,\n",
              " 43,\n",
              " 44,\n",
              " 45,\n",
              " 46,\n",
              " 47,\n",
              " 48,\n",
              " 49,\n",
              " 50,\n",
              " 51,\n",
              " 52,\n",
              " 53,\n",
              " 54,\n",
              " 55,\n",
              " 56,\n",
              " 57,\n",
              " 58,\n",
              " 59,\n",
              " 60,\n",
              " 61,\n",
              " 62,\n",
              " 63,\n",
              " 64,\n",
              " 65,\n",
              " 66,\n",
              " 67,\n",
              " 68,\n",
              " 69,\n",
              " 70,\n",
              " 71,\n",
              " 72,\n",
              " 73,\n",
              " 74,\n",
              " 75,\n",
              " 76,\n",
              " 77,\n",
              " 78,\n",
              " 79,\n",
              " 80,\n",
              " 81,\n",
              " 82,\n",
              " 83,\n",
              " 84,\n",
              " 85,\n",
              " 86,\n",
              " 87,\n",
              " 88,\n",
              " 89,\n",
              " 90,\n",
              " 91,\n",
              " 92,\n",
              " 93,\n",
              " 94,\n",
              " 95,\n",
              " 96,\n",
              " 97,\n",
              " 98,\n",
              " 99]"
            ]
          },
          "metadata": {
            "tags": []
          },
          "execution_count": 52
        }
      ]
    },
    {
      "cell_type": "code",
      "metadata": {
        "id": "3DNws8Dkfvyg"
      },
      "source": [
        "rd.shuffle(aa)"
      ],
      "execution_count": 60,
      "outputs": []
    },
    {
      "cell_type": "code",
      "metadata": {
        "colab": {
          "base_uri": "https://localhost:8080/"
        },
        "id": "HSFg3jyif31L",
        "outputId": "58ee3260-6e90-4847-fb4c-df22e3237648"
      },
      "source": [
        "aa"
      ],
      "execution_count": 61,
      "outputs": [
        {
          "output_type": "execute_result",
          "data": {
            "text/plain": [
              "[88,\n",
              " 89,\n",
              " 32,\n",
              " 65,\n",
              " 7,\n",
              " 44,\n",
              " 92,\n",
              " 35,\n",
              " 27,\n",
              " 58,\n",
              " 83,\n",
              " 69,\n",
              " 95,\n",
              " 38,\n",
              " 79,\n",
              " 15,\n",
              " 12,\n",
              " 49,\n",
              " 59,\n",
              " 8,\n",
              " 39,\n",
              " 63,\n",
              " 31,\n",
              " 77,\n",
              " 19,\n",
              " 67,\n",
              " 68,\n",
              " 51,\n",
              " 0,\n",
              " 20,\n",
              " 99,\n",
              " 94,\n",
              " 6,\n",
              " 17,\n",
              " 82,\n",
              " 96,\n",
              " 47,\n",
              " 25,\n",
              " 72,\n",
              " 34,\n",
              " 29,\n",
              " 85,\n",
              " 16,\n",
              " 73,\n",
              " 14,\n",
              " 24,\n",
              " 33,\n",
              " 21,\n",
              " 87,\n",
              " 60,\n",
              " 66,\n",
              " 10,\n",
              " 22,\n",
              " 90,\n",
              " 93,\n",
              " 1,\n",
              " 2,\n",
              " 50,\n",
              " 75,\n",
              " 81,\n",
              " 37,\n",
              " 86,\n",
              " 36,\n",
              " 52,\n",
              " 45,\n",
              " 57,\n",
              " 62,\n",
              " 3,\n",
              " 41,\n",
              " 56,\n",
              " 84,\n",
              " 5,\n",
              " 74,\n",
              " 40,\n",
              " 71,\n",
              " 55,\n",
              " 42,\n",
              " 61,\n",
              " 30,\n",
              " 64,\n",
              " 11,\n",
              " 91,\n",
              " 97,\n",
              " 76,\n",
              " 18,\n",
              " 78,\n",
              " 28,\n",
              " 80,\n",
              " 98,\n",
              " 13,\n",
              " 4,\n",
              " 48,\n",
              " 43,\n",
              " 9,\n",
              " 23,\n",
              " 70,\n",
              " 26,\n",
              " 54,\n",
              " 53,\n",
              " 46]"
            ]
          },
          "metadata": {
            "tags": []
          },
          "execution_count": 61
        }
      ]
    },
    {
      "cell_type": "code",
      "metadata": {
        "id": "ScrXKh_ChgSh"
      },
      "source": [
        "bb = np.reshape(np.array(aa),(10,10))"
      ],
      "execution_count": 62,
      "outputs": []
    },
    {
      "cell_type": "code",
      "metadata": {
        "colab": {
          "base_uri": "https://localhost:8080/"
        },
        "id": "2IIL613uhjLZ",
        "outputId": "77246393-8bcc-45ff-fe79-4faa801a0bc2"
      },
      "source": [
        "bb"
      ],
      "execution_count": 63,
      "outputs": [
        {
          "output_type": "execute_result",
          "data": {
            "text/plain": [
              "array([[88, 89, 32, 65,  7, 44, 92, 35, 27, 58],\n",
              "       [83, 69, 95, 38, 79, 15, 12, 49, 59,  8],\n",
              "       [39, 63, 31, 77, 19, 67, 68, 51,  0, 20],\n",
              "       [99, 94,  6, 17, 82, 96, 47, 25, 72, 34],\n",
              "       [29, 85, 16, 73, 14, 24, 33, 21, 87, 60],\n",
              "       [66, 10, 22, 90, 93,  1,  2, 50, 75, 81],\n",
              "       [37, 86, 36, 52, 45, 57, 62,  3, 41, 56],\n",
              "       [84,  5, 74, 40, 71, 55, 42, 61, 30, 64],\n",
              "       [11, 91, 97, 76, 18, 78, 28, 80, 98, 13],\n",
              "       [ 4, 48, 43,  9, 23, 70, 26, 54, 53, 46]])"
            ]
          },
          "metadata": {
            "tags": []
          },
          "execution_count": 63
        }
      ]
    },
    {
      "cell_type": "code",
      "metadata": {
        "colab": {
          "base_uri": "https://localhost:8080/"
        },
        "id": "IbLebZI6h2_K",
        "outputId": "c1561406-650c-4317-8dcc-5f1609eb095e"
      },
      "source": [
        "rd.randrange(100)"
      ],
      "execution_count": 64,
      "outputs": [
        {
          "output_type": "execute_result",
          "data": {
            "text/plain": [
              "94"
            ]
          },
          "metadata": {
            "tags": []
          },
          "execution_count": 64
        }
      ]
    },
    {
      "cell_type": "code",
      "metadata": {
        "id": "rKr-CxJZiQ7S"
      },
      "source": [
        "l=list(range(1,101))"
      ],
      "execution_count": 67,
      "outputs": []
    },
    {
      "cell_type": "code",
      "metadata": {
        "colab": {
          "base_uri": "https://localhost:8080/"
        },
        "id": "KxY1R5IBioJ4",
        "outputId": "e00c050d-420d-4cc9-c86c-6aeac8c094f6"
      },
      "source": [
        "l"
      ],
      "execution_count": 68,
      "outputs": [
        {
          "output_type": "execute_result",
          "data": {
            "text/plain": [
              "[1,\n",
              " 2,\n",
              " 3,\n",
              " 4,\n",
              " 5,\n",
              " 6,\n",
              " 7,\n",
              " 8,\n",
              " 9,\n",
              " 10,\n",
              " 11,\n",
              " 12,\n",
              " 13,\n",
              " 14,\n",
              " 15,\n",
              " 16,\n",
              " 17,\n",
              " 18,\n",
              " 19,\n",
              " 20,\n",
              " 21,\n",
              " 22,\n",
              " 23,\n",
              " 24,\n",
              " 25,\n",
              " 26,\n",
              " 27,\n",
              " 28,\n",
              " 29,\n",
              " 30,\n",
              " 31,\n",
              " 32,\n",
              " 33,\n",
              " 34,\n",
              " 35,\n",
              " 36,\n",
              " 37,\n",
              " 38,\n",
              " 39,\n",
              " 40,\n",
              " 41,\n",
              " 42,\n",
              " 43,\n",
              " 44,\n",
              " 45,\n",
              " 46,\n",
              " 47,\n",
              " 48,\n",
              " 49,\n",
              " 50,\n",
              " 51,\n",
              " 52,\n",
              " 53,\n",
              " 54,\n",
              " 55,\n",
              " 56,\n",
              " 57,\n",
              " 58,\n",
              " 59,\n",
              " 60,\n",
              " 61,\n",
              " 62,\n",
              " 63,\n",
              " 64,\n",
              " 65,\n",
              " 66,\n",
              " 67,\n",
              " 68,\n",
              " 69,\n",
              " 70,\n",
              " 71,\n",
              " 72,\n",
              " 73,\n",
              " 74,\n",
              " 75,\n",
              " 76,\n",
              " 77,\n",
              " 78,\n",
              " 79,\n",
              " 80,\n",
              " 81,\n",
              " 82,\n",
              " 83,\n",
              " 84,\n",
              " 85,\n",
              " 86,\n",
              " 87,\n",
              " 88,\n",
              " 89,\n",
              " 90,\n",
              " 91,\n",
              " 92,\n",
              " 93,\n",
              " 94,\n",
              " 95,\n",
              " 96,\n",
              " 97,\n",
              " 98,\n",
              " 99,\n",
              " 100]"
            ]
          },
          "metadata": {
            "tags": []
          },
          "execution_count": 68
        }
      ]
    },
    {
      "cell_type": "code",
      "metadata": {
        "id": "LxjeNsKtipGA"
      },
      "source": [
        "g=list(range(100))"
      ],
      "execution_count": 69,
      "outputs": []
    },
    {
      "cell_type": "code",
      "metadata": {
        "colab": {
          "base_uri": "https://localhost:8080/"
        },
        "id": "IIybjATPi-QI",
        "outputId": "d061f778-821f-459e-e8f9-043b0646cf61"
      },
      "source": [
        "g"
      ],
      "execution_count": 70,
      "outputs": [
        {
          "output_type": "execute_result",
          "data": {
            "text/plain": [
              "[0,\n",
              " 1,\n",
              " 2,\n",
              " 3,\n",
              " 4,\n",
              " 5,\n",
              " 6,\n",
              " 7,\n",
              " 8,\n",
              " 9,\n",
              " 10,\n",
              " 11,\n",
              " 12,\n",
              " 13,\n",
              " 14,\n",
              " 15,\n",
              " 16,\n",
              " 17,\n",
              " 18,\n",
              " 19,\n",
              " 20,\n",
              " 21,\n",
              " 22,\n",
              " 23,\n",
              " 24,\n",
              " 25,\n",
              " 26,\n",
              " 27,\n",
              " 28,\n",
              " 29,\n",
              " 30,\n",
              " 31,\n",
              " 32,\n",
              " 33,\n",
              " 34,\n",
              " 35,\n",
              " 36,\n",
              " 37,\n",
              " 38,\n",
              " 39,\n",
              " 40,\n",
              " 41,\n",
              " 42,\n",
              " 43,\n",
              " 44,\n",
              " 45,\n",
              " 46,\n",
              " 47,\n",
              " 48,\n",
              " 49,\n",
              " 50,\n",
              " 51,\n",
              " 52,\n",
              " 53,\n",
              " 54,\n",
              " 55,\n",
              " 56,\n",
              " 57,\n",
              " 58,\n",
              " 59,\n",
              " 60,\n",
              " 61,\n",
              " 62,\n",
              " 63,\n",
              " 64,\n",
              " 65,\n",
              " 66,\n",
              " 67,\n",
              " 68,\n",
              " 69,\n",
              " 70,\n",
              " 71,\n",
              " 72,\n",
              " 73,\n",
              " 74,\n",
              " 75,\n",
              " 76,\n",
              " 77,\n",
              " 78,\n",
              " 79,\n",
              " 80,\n",
              " 81,\n",
              " 82,\n",
              " 83,\n",
              " 84,\n",
              " 85,\n",
              " 86,\n",
              " 87,\n",
              " 88,\n",
              " 89,\n",
              " 90,\n",
              " 91,\n",
              " 92,\n",
              " 93,\n",
              " 94,\n",
              " 95,\n",
              " 96,\n",
              " 97,\n",
              " 98,\n",
              " 99]"
            ]
          },
          "metadata": {
            "tags": []
          },
          "execution_count": 70
        }
      ]
    },
    {
      "cell_type": "code",
      "metadata": {
        "colab": {
          "base_uri": "https://localhost:8080/"
        },
        "id": "SwM3wYxyi-0B",
        "outputId": "1631d57e-00ca-4d7a-f132-e1d0919195d0"
      },
      "source": [
        "bb"
      ],
      "execution_count": 71,
      "outputs": [
        {
          "output_type": "execute_result",
          "data": {
            "text/plain": [
              "array([[88, 89, 32, 65,  7, 44, 92, 35, 27, 58],\n",
              "       [83, 69, 95, 38, 79, 15, 12, 49, 59,  8],\n",
              "       [39, 63, 31, 77, 19, 67, 68, 51,  0, 20],\n",
              "       [99, 94,  6, 17, 82, 96, 47, 25, 72, 34],\n",
              "       [29, 85, 16, 73, 14, 24, 33, 21, 87, 60],\n",
              "       [66, 10, 22, 90, 93,  1,  2, 50, 75, 81],\n",
              "       [37, 86, 36, 52, 45, 57, 62,  3, 41, 56],\n",
              "       [84,  5, 74, 40, 71, 55, 42, 61, 30, 64],\n",
              "       [11, 91, 97, 76, 18, 78, 28, 80, 98, 13],\n",
              "       [ 4, 48, 43,  9, 23, 70, 26, 54, 53, 46]])"
            ]
          },
          "metadata": {
            "tags": []
          },
          "execution_count": 71
        }
      ]
    },
    {
      "cell_type": "code",
      "metadata": {
        "colab": {
          "base_uri": "https://localhost:8080/"
        },
        "id": "d1qzWvO6jIPw",
        "outputId": "409b727f-32a0-4ec7-8099-7676eaddecf9"
      },
      "source": [
        "np.linalg.det(bb)"
      ],
      "execution_count": 72,
      "outputs": [
        {
          "output_type": "execute_result",
          "data": {
            "text/plain": [
              "-9.052346470669266e+17"
            ]
          },
          "metadata": {
            "tags": []
          },
          "execution_count": 72
        }
      ]
    },
    {
      "cell_type": "code",
      "metadata": {
        "colab": {
          "base_uri": "https://localhost:8080/"
        },
        "id": "0yvhjqT5jgvR",
        "outputId": "295a5732-52ae-4ec1-a4a4-754a5c291946"
      },
      "source": [
        "np.diag(bb)"
      ],
      "execution_count": 73,
      "outputs": [
        {
          "output_type": "execute_result",
          "data": {
            "text/plain": [
              "array([88, 69, 31, 17, 14,  1, 62, 61, 98, 46])"
            ]
          },
          "metadata": {
            "tags": []
          },
          "execution_count": 73
        }
      ]
    },
    {
      "cell_type": "code",
      "metadata": {
        "id": "gP7X9dekj4kp"
      },
      "source": [
        "ss=np.invert(bb)"
      ],
      "execution_count": 76,
      "outputs": []
    },
    {
      "cell_type": "code",
      "metadata": {
        "colab": {
          "base_uri": "https://localhost:8080/"
        },
        "id": "asstGWKlkGTB",
        "outputId": "84e3d16e-2624-4677-9d24-58a4f6aa852d"
      },
      "source": [
        "np.dot(bb,ss)"
      ],
      "execution_count": 77,
      "outputs": [
        {
          "output_type": "execute_result",
          "data": {
            "text/plain": [
              "array([[-33331, -36999, -25285, -26437, -26757, -27675, -24689, -21285,\n",
              "        -27295, -23598],\n",
              "       [-29527, -36107, -24610, -30742, -19226, -25659, -24516, -23174,\n",
              "        -25721, -19963],\n",
              "       [-29781, -26792, -17951, -22233, -26226, -21169, -18145, -16537,\n",
              "        -22805, -20998],\n",
              "       [-32484, -38126, -28370, -35178, -26243, -22486, -21777, -25158,\n",
              "        -35884, -27192],\n",
              "       [-24072, -31928, -24892, -20920, -22000, -25455, -16083, -21337,\n",
              "        -28203, -15473],\n",
              "       [-25082, -35950, -20814, -23796, -17788, -30275, -21909, -22095,\n",
              "        -30733, -21572],\n",
              "       [-25709, -33019, -22070, -25183, -23436, -22751, -17976, -19588,\n",
              "        -28100, -19887],\n",
              "       [-28132, -33073, -20257, -30167, -20537, -27423, -25349, -22429,\n",
              "        -26155, -26583],\n",
              "       [-34974, -35763, -32047, -34079, -32440, -31294, -21790, -30065,\n",
              "        -32985, -22438],\n",
              "       [-18832, -19791, -20410, -21857, -19599, -17445, -12126, -19365,\n",
              "        -21533, -16925]])"
            ]
          },
          "metadata": {
            "tags": []
          },
          "execution_count": 77
        }
      ]
    },
    {
      "cell_type": "code",
      "metadata": {
        "id": "zfvzmzsSkQtX"
      },
      "source": [
        "sss=np.linalg.inv(bb)"
      ],
      "execution_count": 78,
      "outputs": []
    },
    {
      "cell_type": "code",
      "metadata": {
        "colab": {
          "base_uri": "https://localhost:8080/"
        },
        "id": "UhISr1C_kmb3",
        "outputId": "6038ff1f-122d-4064-960d-bf57a58f84d5"
      },
      "source": [
        "sss"
      ],
      "execution_count": 79,
      "outputs": [
        {
          "output_type": "execute_result",
          "data": {
            "text/plain": [
              "array([[-0.03382897,  0.01347106,  0.02672484,  0.00354409,  0.06709275,\n",
              "        -0.03543909, -0.02787266,  0.03860722, -0.02811011, -0.01087489],\n",
              "       [-0.0374039 ,  0.02508532,  0.03645551, -0.00379671,  0.06453978,\n",
              "        -0.03187549, -0.01910571,  0.01761961, -0.03842313,  0.01130469],\n",
              "       [-0.01795279,  0.00862031,  0.00737171, -0.00617962,  0.02691112,\n",
              "        -0.01936442, -0.00098888,  0.02183177, -0.00813679, -0.0053751 ],\n",
              "       [-0.02838448,  0.00383169,  0.02460983, -0.00177837,  0.04197143,\n",
              "        -0.01735346, -0.00963462,  0.02229008, -0.01223087, -0.01427753],\n",
              "       [ 0.03633631, -0.00983285, -0.02825763,  0.00235718, -0.07710496,\n",
              "         0.04179755,  0.0296039 , -0.04114879,  0.02708263,  0.0069672 ],\n",
              "       [-0.05314854,  0.00751715,  0.03752735,  0.0043859 ,  0.0764717 ,\n",
              "        -0.04297977, -0.02134937,  0.04661006, -0.02876104, -0.00864599],\n",
              "       [ 0.13107867, -0.04872904, -0.10021534,  0.00460749, -0.20898456,\n",
              "         0.10321864,  0.06802686, -0.09981631,  0.09691367,  0.00287275],\n",
              "       [ 0.02651317, -0.00080248, -0.00727603, -0.0013194 , -0.03788737,\n",
              "         0.02362627, -0.00473807, -0.02761288,  0.00918202,  0.02025523],\n",
              "       [ 0.06132519, -0.0283606 , -0.05828578,  0.00748958, -0.09422497,\n",
              "         0.04933717,  0.02831143, -0.04367993,  0.05551046, -0.00594087],\n",
              "       [-0.04885207,  0.01848299,  0.03729187, -0.00775931,  0.08679637,\n",
              "        -0.04057614, -0.02265181,  0.04229407, -0.04675124,  0.00982321]])"
            ]
          },
          "metadata": {
            "tags": []
          },
          "execution_count": 79
        }
      ]
    },
    {
      "cell_type": "code",
      "metadata": {
        "colab": {
          "base_uri": "https://localhost:8080/"
        },
        "id": "bPWrbnNJkn4P",
        "outputId": "292e7019-3eb9-4715-bd87-9a881bcf3fbb"
      },
      "source": [
        "np.dot(bb,sss)"
      ],
      "execution_count": 80,
      "outputs": [
        {
          "output_type": "execute_result",
          "data": {
            "text/plain": [
              "array([[ 1.00000000e+00, -4.23272528e-16,  5.82867088e-16,\n",
              "         1.50920942e-16, -2.05391260e-15,  2.59514632e-15,\n",
              "         7.35522754e-16, -3.49720253e-15,  2.06779038e-15,\n",
              "         2.46330734e-16],\n",
              "       [-3.88578059e-16,  1.00000000e+00,  1.11022302e-15,\n",
              "        -2.49800181e-16,  2.99760217e-15, -2.22044605e-16,\n",
              "        -1.22124533e-15, -1.66533454e-16,  1.72084569e-15,\n",
              "        -4.02455846e-16],\n",
              "       [-9.15933995e-16,  4.85722573e-16,  1.00000000e+00,\n",
              "        -1.70002901e-16,  7.77156117e-16,  3.05311332e-16,\n",
              "        -1.30451205e-15,  1.11022302e-16, -8.32667268e-17,\n",
              "         2.15105711e-16],\n",
              "       [-4.57966998e-16, -3.40005801e-16,  2.02615702e-15,\n",
              "         1.00000000e+00,  3.94129174e-15,  7.63278329e-16,\n",
              "         6.80011603e-16, -8.32667268e-16,  1.24900090e-16,\n",
              "         2.32452946e-16],\n",
              "       [-4.16333634e-16,  2.35922393e-16, -4.99600361e-16,\n",
              "        -6.59194921e-17,  1.00000000e+00,  2.49800181e-16,\n",
              "        -4.71844785e-16,  7.77156117e-16,  6.38378239e-16,\n",
              "        -2.08166817e-17],\n",
              "       [-1.45022883e-15, -3.92047506e-16,  1.24900090e-16,\n",
              "        -6.67868538e-17,  1.08246745e-15,  1.00000000e+00,\n",
              "        -1.59594560e-16, -9.71445147e-16,  7.28583860e-16,\n",
              "         1.71737624e-16],\n",
              "       [-8.32667268e-16,  4.71844785e-16,  2.10942375e-15,\n",
              "        -2.08166817e-17,  2.22044605e-16, -3.88578059e-16,\n",
              "         1.00000000e+00, -1.11022302e-15,  1.72084569e-15,\n",
              "         2.91433544e-16],\n",
              "       [-1.33226763e-15,  0.00000000e+00,  4.44089210e-16,\n",
              "        -1.11022302e-16,  1.77635684e-15,  0.00000000e+00,\n",
              "        -4.44089210e-16,  1.00000000e+00,  4.44089210e-16,\n",
              "        -3.33066907e-16],\n",
              "       [ 5.75928194e-16, -3.78169718e-16, -1.52655666e-16,\n",
              "        -9.10729825e-17,  8.32667268e-17,  1.87350135e-16,\n",
              "         4.78783679e-16,  1.02695630e-15,  1.00000000e+00,\n",
              "        -2.65412692e-16],\n",
              "       [ 5.68989300e-16,  1.73472348e-16, -2.77555756e-17,\n",
              "         8.67361738e-18,  1.38777878e-15, -4.30211422e-16,\n",
              "        -1.38777878e-17,  3.88578059e-16,  8.74300632e-16,\n",
              "         1.00000000e+00]])"
            ]
          },
          "metadata": {
            "tags": []
          },
          "execution_count": 80
        }
      ]
    },
    {
      "cell_type": "code",
      "metadata": {
        "id": "aj_PMer8kspf"
      },
      "source": [
        "import matplotlib.pyplot as plt"
      ],
      "execution_count": 81,
      "outputs": []
    },
    {
      "cell_type": "code",
      "metadata": {
        "colab": {
          "base_uri": "https://localhost:8080/",
          "height": 295
        },
        "id": "T1amvpdllNrP",
        "outputId": "1b63bd89-c786-4da3-b0a3-7f8ee1096681"
      },
      "source": [
        "import matplotlib.pyplot as plt\n",
        "temps = [1,2,3,4,6,7,9]\n",
        "concentration = [5.5 , 7.2 , 11.8 , 13.6 , 19.1 , 21.7 , 29.4]\n",
        "plt.scatter(temps , concentration , marker ='o', color = 'blue')\n",
        "plt.xlabel (' Temps (h)')\n",
        "plt.ylabel (' Concentration (mg /L)')\n",
        "plt.title (' Concentration de produit en fonction du temps')\n",
        "plt.show()"
      ],
      "execution_count": 91,
      "outputs": [
        {
          "output_type": "display_data",
          "data": {
            "image/png": "[encoded data removed]",
            "text/plain": [
              "<Figure size 432x288 with 1 Axes>"
            ]
          },
          "metadata": {
            "tags": [],
            "needs_background": "light"
          }
        }
      ]
    },
    {
      "cell_type": "code",
      "metadata": {
        "colab": {
          "base_uri": "https://localhost:8080/",
          "height": 295
        },
        "id": "twZ93Aw0m8iM",
        "outputId": "f484b10c-dc51-467f-a25f-ab61c65bd6df"
      },
      "source": [
        "import numpy as np\n",
        "import matplotlib.pyplot as plt\n",
        "temps = [1,2,3,4,6,7,9]\n",
        "concentration = [5.5 , 7.2 , 11.8 , 13.6 , 19.1 , 21.7 , 29.4]\n",
        "plt.scatter(temps , concentration , marker ='o', color ='blue')\n",
        "plt.xlabel (' Temps (h)')\n",
        "plt.ylabel (' Concentration (mg /L)')\n",
        "plt.title (' Concentration de produit en fonction du temps')\n",
        "x = np.linspace(min(temps), max(temps), 50)\n",
        "y = 2+3*x\n",
        "plt.plot (x , y , color ='green', ls ='--')\n",
        "plt.grid()"
      ],
      "execution_count": 102,
      "outputs": [
        {
          "output_type": "display_data",
          "data": {
            "image/png": "[encoded data removed]",
            "text/plain": [
              "<Figure size 432x288 with 1 Axes>"
            ]
          },
          "metadata": {
            "tags": [],
            "needs_background": "light"
          }
        }
      ]
    },
    {
      "cell_type": "code",
      "metadata": {
        "id": "9fFXoUpEp2A7"
      },
      "source": [
        ""
      ],
      "execution_count": null,
      "outputs": []
    }
  ]
}
