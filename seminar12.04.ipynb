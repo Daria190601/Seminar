{
  "nbformat": 4,
  "nbformat_minor": 0,
  "metadata": {
    "colab": {
      "name": "seminar12.04.ipynb",
      "provenance": [],
      "authorship_tag": "ABX9TyN+4YGNsLn94Y4SpfBr/WnI",
      "include_colab_link": true
    },
    "kernelspec": {
      "name": "python3",
      "display_name": "Python 3"
    },
    "language_info": {
      "name": "python"
    }
  },
  "cells": [
    {
      "cell_type": "markdown",
      "metadata": {
        "id": "view-in-github",
        "colab_type": "text"
      },
      "source": [
        "<a href=\"https://colab.research.google.com/github/Daria190601/Seminar/blob/main/seminar12.04.ipynb\" target=\"_parent\"><img src=\"https://colab.research.google.com/assets/colab-badge.svg\" alt=\"Open In Colab\"/></a>"
      ]
    },
    {
      "cell_type": "markdown",
      "metadata": {
        "id": "c9kNip7o08S3"
      },
      "source": [
        "Семинар 6"
      ]
    },
    {
      "cell_type": "code",
      "metadata": {
        "id": "Zy4EecXl1lAO"
      },
      "source": [
        "def insertationSort(arr): \n",
        "  for i in range(1, len(arr)):\n",
        "    \n",
        "    key = arr[i]\n",
        "\n",
        "    \n",
        "    j = i-1\n",
        "    while j >=0 and key < arr[j] :\n",
        "            arr[j+1] = arr[j]\n",
        "            j -= 1\n",
        "    arr[j+1] = key\n"
      ],
      "execution_count": 16,
      "outputs": []
    },
    {
      "cell_type": "code",
      "metadata": {
        "id": "9vmf0fKP1nVU"
      },
      "source": [
        "arr = [12, 11, 13, 5, 6]"
      ],
      "execution_count": 19,
      "outputs": []
    },
    {
      "cell_type": "code",
      "metadata": {
        "id": "NYydlMBV3Gzi"
      },
      "source": [
        "insertationSort(arr)"
      ],
      "execution_count": 22,
      "outputs": []
    },
    {
      "cell_type": "code",
      "metadata": {
        "colab": {
          "base_uri": "https://localhost:8080/"
        },
        "id": "orCwjXDt3Kkc",
        "outputId": "daa64157-6b1f-4756-80de-9cdafd10bc95"
      },
      "source": [
        "print(arr)"
      ],
      "execution_count": 23,
      "outputs": [
        {
          "output_type": "stream",
          "text": [
            "[5, 6, 11, 12, 13]\n"
          ],
          "name": "stdout"
        }
      ]
    },
    {
      "cell_type": "code",
      "metadata": {
        "colab": {
          "base_uri": "https://localhost:8080/"
        },
        "id": "v8_4RFeY3ldj",
        "outputId": "47a4c6c2-fa6e-434a-941f-e8bef8adbff6"
      },
      "source": [
        "type(insertationSort(arr))"
      ],
      "execution_count": 24,
      "outputs": [
        {
          "output_type": "execute_result",
          "data": {
            "text/plain": [
              "NoneType"
            ]
          },
          "metadata": {
            "tags": []
          },
          "execution_count": 24
        }
      ]
    },
    {
      "cell_type": "code",
      "metadata": {
        "id": "qb9o5FY34D7k"
      },
      "source": [
        "arr_2 = [12, 11, 13, 5, 6, 1, 0, -10]"
      ],
      "execution_count": 28,
      "outputs": []
    },
    {
      "cell_type": "code",
      "metadata": {
        "id": "reLhWk9u4aW1"
      },
      "source": [
        "insertationSort(arr_2)"
      ],
      "execution_count": 30,
      "outputs": []
    },
    {
      "cell_type": "code",
      "metadata": {
        "colab": {
          "base_uri": "https://localhost:8080/"
        },
        "id": "c5xDYYcE4dNz",
        "outputId": "4c86f5bb-1985-4f87-a09f-71f7aa799b88"
      },
      "source": [
        "print(arr_2)"
      ],
      "execution_count": 29,
      "outputs": [
        {
          "output_type": "stream",
          "text": [
            "[12, 11, 13, 5, 6, 1, 0, -10]\n"
          ],
          "name": "stdout"
        }
      ]
    },
    {
      "cell_type": "code",
      "metadata": {
        "colab": {
          "base_uri": "https://localhost:8080/"
        },
        "id": "qu59V46_4hDj",
        "outputId": "7a85b5e3-8297-41f1-f419-167b27358e00"
      },
      "source": [
        "len(arr)"
      ],
      "execution_count": 31,
      "outputs": [
        {
          "output_type": "execute_result",
          "data": {
            "text/plain": [
              "5"
            ]
          },
          "metadata": {
            "tags": []
          },
          "execution_count": 31
        }
      ]
    },
    {
      "cell_type": "code",
      "metadata": {
        "colab": {
          "base_uri": "https://localhost:8080/"
        },
        "id": "RGJCjano41dr",
        "outputId": "959d242d-e9d9-4a01-c6c5-f9b4484e7c65"
      },
      "source": [
        "len(arr_2)"
      ],
      "execution_count": 33,
      "outputs": [
        {
          "output_type": "execute_result",
          "data": {
            "text/plain": [
              "8"
            ]
          },
          "metadata": {
            "tags": []
          },
          "execution_count": 33
        }
      ]
    },
    {
      "cell_type": "code",
      "metadata": {
        "id": "mdUZ6ydh434E"
      },
      "source": [
        ""
      ],
      "execution_count": null,
      "outputs": []
    }
  ]
}